{
  "nbformat": 4,
  "nbformat_minor": 0,
  "metadata": {
    "colab": {
      "provenance": [],
      "authorship_tag": "ABX9TyMV4n3B4UuX43kYhKCYG/j2",
      "include_colab_link": true
    },
    "kernelspec": {
      "name": "python3",
      "display_name": "Python 3"
    },
    "language_info": {
      "name": "python"
    },
    "accelerator": "GPU",
    "gpuClass": "standard"
  },
  "cells": [
    {
      "cell_type": "markdown",
      "metadata": {
        "id": "view-in-github",
        "colab_type": "text"
      },
      "source": [
        "<a href=\"https://colab.research.google.com/github/RiadMhajne/DeepLearning/blob/main/AI.ipynb\" target=\"_parent\"><img src=\"https://colab.research.google.com/assets/colab-badge.svg\" alt=\"Open In Colab\"/></a>"
      ]
    },
    {
      "cell_type": "code",
      "execution_count": null,
      "metadata": {
        "id": "Cc4-bd_AZxLu"
      },
      "outputs": [],
      "source": [
        "!pip3 install tensorflow-gpu"
      ]
    },
    {
      "cell_type": "code",
      "source": [
        "!pip3 install keras"
      ],
      "metadata": {
        "id": "zvZYevinZ4M6"
      },
      "execution_count": null,
      "outputs": []
    },
    {
      "cell_type": "code",
      "source": [
        "!pip3 install opencv-python"
      ],
      "metadata": {
        "id": "oEbXWAOGZ4Xo"
      },
      "execution_count": null,
      "outputs": []
    },
    {
      "cell_type": "code",
      "source": [
        "!pip3 install imageai --upgrade"
      ],
      "metadata": {
        "id": "OZCDi2YWZ4fe"
      },
      "execution_count": null,
      "outputs": []
    },
    {
      "cell_type": "code",
      "source": [
        "!pip install tensorflow"
      ],
      "metadata": {
        "id": "0sxd__IMZ4iu"
      },
      "execution_count": null,
      "outputs": []
    },
    {
      "cell_type": "code",
      "source": [
        "!pip install keras --upgrade\n",
        "!pip3 install tensorflow-gpu --upgrade\n",
        "!pip3 install tensorflow --upgrade\n"
      ],
      "metadata": {
        "id": "HcAaRsn0Z4lO"
      },
      "execution_count": null,
      "outputs": []
    },
    {
      "cell_type": "code",
      "source": [
        "!apt install --allow-change-held-packages libcudnn8=8.1.0.77-1+cuda11.2"
      ],
      "metadata": {
        "id": "c96Dt6RPZ4nj"
      },
      "execution_count": null,
      "outputs": []
    },
    {
      "cell_type": "code",
      "source": [
        "!unzip apple_dataset.zip"
      ],
      "metadata": {
        "id": "rPs0yzMxadlQ"
      },
      "execution_count": null,
      "outputs": []
    },
    {
      "cell_type": "markdown",
      "source": [],
      "metadata": {
        "id": "h-rm7zX3XBkW"
      }
    },
    {
      "cell_type": "code",
      "source": [
        "from imageai.Detection.Custom import DetectionModelTrainer\n",
        "\n",
        "trainer = DetectionModelTrainer()\n",
        "trainer.setModelTypeAsYOLOv3()\n",
        "trainer.setDataDirectory(data_directory=\"apple_dataset\")\n",
        "trainer.setTrainConfig(object_names_array=[\"apple\", \"damaged_apple\",\"banana\",\"damaged_banana\"], batch_size=8, num_experiments=20, train_from_pretrained_model=\"/content/pretrained-yolov3.h5\")\n",
        "trainer.trainModel()"
      ],
      "metadata": {
        "id": "nTLTS6MeZ4qO"
      },
      "execution_count": null,
      "outputs": []
    },
    {
      "cell_type": "code",
      "source": [
        "from imageai.Detection.Custom import CustomObjectDetection\n",
        "import os\n",
        "\n",
        "execution_path = os.getcwd()\n",
        "\n",
        "detector = CustomObjectDetection()\n",
        "detector.setModelTypeAsYOLOv3()\n",
        "detector.setModelPath(detection_model_path=\"/content/detection_model-ex-020--loss-0024.412.h5\")\n",
        "detector.setJsonPath(configuration_json=\"/content/detection_config.json\")\n",
        "detector.loadModel()\n",
        "\n",
        "detections = detector.detectObjectsFromImage(input_image=\"/content/1r1fapples.jpg\", minimum_percentage_probability=96.6, output_image_path=\"image1OP.jpg\")\n",
        "\n",
        "for detection in detections:\n",
        "    print(detection[\"name\"], \" : \", detection[\"percentage_probability\"], \" : \", detection[\"box_points\"])"
      ],
      "metadata": {
        "id": "aPfMpoFnZ4uP",
        "colab": {
          "base_uri": "https://localhost:8080/"
        },
        "outputId": "5f28f0c5-2ffa-4be1-f961-76670c7bd5a0"
      },
      "execution_count": null,
      "outputs": [
        {
          "output_type": "stream",
          "name": "stdout",
          "text": [
            "1/1 [==============================] - 2s 2s/step\n",
            "damaged_apple  :  96.63923382759094  :  [87, 117, 399, 451]\n",
            "apple  :  98.18868637084961  :  [420, 53, 734, 390]\n"
          ]
        }
      ]
    },
    {
      "cell_type": "code",
      "source": [
        "detections = detector.detectObjectsFromImage(input_image=\"/content/2banana4apples.jpg\", minimum_percentage_probability=85, output_image_path=\"image2OP.jpg\")\n",
        "\n",
        "for detection in detections:\n",
        "    print(detection[\"name\"], \" : \", detection[\"percentage_probability\"], \" : \", detection[\"box_points\"])"
      ],
      "metadata": {
        "id": "A7wZAwZR1H1x",
        "colab": {
          "base_uri": "https://localhost:8080/"
        },
        "outputId": "63a373ac-5e02-4cdd-e41c-8255731ac082"
      },
      "execution_count": null,
      "outputs": [
        {
          "output_type": "stream",
          "name": "stdout",
          "text": [
            "1/1 [==============================] - 2s 2s/step\n",
            "banana  :  95.74523568153381  :  [28, 34, 159, 155]\n",
            "apple  :  97.12883234024048  :  [149, 46, 233, 106]\n",
            "apple  :  91.90651178359985  :  [50, 49, 140, 116]\n",
            "banana  :  99.52279329299927  :  [13, 56, 96, 167]\n",
            "apple  :  91.0252034664154  :  [106, 79, 168, 146]\n",
            "apple  :  99.20856952667236  :  [164, 92, 244, 158]\n"
          ]
        }
      ]
    },
    {
      "cell_type": "code",
      "source": [
        "detections = detector.detectObjectsFromImage(input_image=\"/content/2rottenbanana.jpg\", minimum_percentage_probability=80, output_image_path=\"image3OP.jpg\")\n",
        "\n",
        "for detection in detections:\n",
        "    print(detection[\"name\"], \" : \", detection[\"percentage_probability\"], \" : \", detection[\"box_points\"])"
      ],
      "metadata": {
        "id": "pHMm1vZZ1eEh",
        "colab": {
          "base_uri": "https://localhost:8080/"
        },
        "outputId": "f1f17741-fc34-4aed-96da-ceb99b9404ce"
      },
      "execution_count": null,
      "outputs": [
        {
          "output_type": "stream",
          "name": "stdout",
          "text": [
            "1/1 [==============================] - 2s 2s/step\n",
            "damaged_banana  :  95.70282697677612  :  [40, 49, 226, 135]\n"
          ]
        }
      ]
    },
    {
      "cell_type": "code",
      "source": [
        "detections = detector.detectObjectsFromImage(input_image=\"/content/3bananas.jpg\", minimum_percentage_probability=80, output_image_path=\"image4OP.jpg\")\n",
        "\n",
        "for detection in detections:\n",
        "    print(detection[\"name\"], \" : \", detection[\"percentage_probability\"], \" : \", detection[\"box_points\"])"
      ],
      "metadata": {
        "id": "SghVDnolp4Tw",
        "colab": {
          "base_uri": "https://localhost:8080/"
        },
        "outputId": "6a9f7245-7b58-4448-e1df-d5cec103bd3c"
      },
      "execution_count": null,
      "outputs": [
        {
          "output_type": "stream",
          "name": "stdout",
          "text": [
            "1/1 [==============================] - 2s 2s/step\n",
            "banana  :  99.93170499801636  :  [34, 32, 184, 97]\n",
            "banana  :  99.96033906936646  :  [48, 67, 200, 131]\n",
            "banana  :  99.85671043395996  :  [98, 75, 228, 161]\n"
          ]
        }
      ]
    },
    {
      "cell_type": "code",
      "source": [
        "detections = detector.detectObjectsFromImage(input_image=\"/content/4rapples2rbananas.jpg\", minimum_percentage_probability=87, output_image_path=\"image5OP.jpg\")\n",
        "\n",
        "for detection in detections:\n",
        "    print(detection[\"name\"], \" : \", detection[\"percentage_probability\"], \" : \", detection[\"box_points\"])"
      ],
      "metadata": {
        "colab": {
          "base_uri": "https://localhost:8080/"
        },
        "id": "WSSeI-dzN63c",
        "outputId": "75555509-d486-4d76-da14-714322c29a17"
      },
      "execution_count": null,
      "outputs": [
        {
          "output_type": "stream",
          "name": "stdout",
          "text": [
            "1/1 [==============================] - 2s 2s/step\n",
            "banana  :  95.71884274482727  :  [102, 40, 207, 158]\n",
            "damaged_banana  :  87.82575130462646  :  [129, 33, 247, 163]\n",
            "apple  :  95.01578211784363  :  [108, 18, 168, 66]\n",
            "damaged_apple  :  88.41897249221802  :  [108, 18, 168, 66]\n",
            "damaged_apple  :  87.3169481754303  :  [59, 35, 114, 78]\n",
            "apple  :  88.2972776889801  :  [103, 61, 152, 112]\n",
            "damaged_apple  :  89.6906852722168  :  [103, 61, 152, 112]\n"
          ]
        }
      ]
    },
    {
      "cell_type": "code",
      "source": [
        "detections = detector.detectObjectsFromImage(input_image=\"/content/5apples.jpg\", minimum_percentage_probability=94, output_image_path=\"image6OP.jpg\")\n",
        "\n",
        "for detection in detections:\n",
        "    print(detection[\"name\"], \" : \", detection[\"percentage_probability\"], \" : \", detection[\"box_points\"])"
      ],
      "metadata": {
        "colab": {
          "base_uri": "https://localhost:8080/"
        },
        "id": "ZUT1jBwKN7XB",
        "outputId": "c901e565-413a-4ac2-c71b-294b943ece7b"
      },
      "execution_count": null,
      "outputs": [
        {
          "output_type": "stream",
          "name": "stdout",
          "text": [
            "1/1 [==============================] - 2s 2s/step\n",
            "apple  :  96.33084535598755  :  [196, 37, 288, 137]\n",
            "apple  :  97.18695878982544  :  [26, 47, 113, 139]\n",
            "apple  :  98.55213761329651  :  [109, 60, 213, 141]\n"
          ]
        }
      ]
    },
    {
      "cell_type": "code",
      "source": [
        "detections = detector.detectObjectsFromImage(input_image=\"/content/5bananas.jpg\", minimum_percentage_probability=80, output_image_path=\"image7OP.jpg\")\n",
        "\n",
        "for detection in detections:\n",
        "    print(detection[\"name\"], \" : \", detection[\"percentage_probability\"], \" : \", detection[\"box_points\"])"
      ],
      "metadata": {
        "colab": {
          "base_uri": "https://localhost:8080/"
        },
        "id": "O-_fDnGwN79u",
        "outputId": "63f58466-6e47-4937-aef3-1e56d13a0f33"
      },
      "execution_count": null,
      "outputs": [
        {
          "output_type": "stream",
          "name": "stdout",
          "text": [
            "1/1 [==============================] - 2s 2s/step\n",
            "banana  :  98.68490695953369  :  [203, 86, 496, 251]\n",
            "banana  :  99.41481947898865  :  [187, 223, 512, 384]\n",
            "banana  :  99.96533393859863  :  [86, 242, 432, 525]\n"
          ]
        }
      ]
    }
  ]
}